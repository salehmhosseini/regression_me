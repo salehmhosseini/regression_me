{
 "cells": [
  {
   "cell_type": "markdown",
   "id": "76aab9ea",
   "metadata": {},
   "source": [
    "## import libraries and dataset"
   ]
  },
  {
   "cell_type": "code",
   "execution_count": 65,
   "id": "08169fbe",
   "metadata": {},
   "outputs": [],
   "source": [
    "import numpy as np\n",
    "import pandas as pd\n",
    "import matplotlib.pyplot as plt"
   ]
  },
  {
   "cell_type": "code",
   "execution_count": 66,
   "id": "486fd7ef",
   "metadata": {},
   "outputs": [
    {
     "data": {
      "text/html": [
       "<div>\n",
       "<style scoped>\n",
       "    .dataframe tbody tr th:only-of-type {\n",
       "        vertical-align: middle;\n",
       "    }\n",
       "\n",
       "    .dataframe tbody tr th {\n",
       "        vertical-align: top;\n",
       "    }\n",
       "\n",
       "    .dataframe thead th {\n",
       "        text-align: right;\n",
       "    }\n",
       "</style>\n",
       "<table border=\"1\" class=\"dataframe\">\n",
       "  <thead>\n",
       "    <tr style=\"text-align: right;\">\n",
       "      <th></th>\n",
       "      <th>ENGINESIZE</th>\n",
       "    </tr>\n",
       "  </thead>\n",
       "  <tbody>\n",
       "    <tr>\n",
       "      <th>0</th>\n",
       "      <td>2.0</td>\n",
       "    </tr>\n",
       "    <tr>\n",
       "      <th>1</th>\n",
       "      <td>2.4</td>\n",
       "    </tr>\n",
       "    <tr>\n",
       "      <th>2</th>\n",
       "      <td>1.5</td>\n",
       "    </tr>\n",
       "    <tr>\n",
       "      <th>3</th>\n",
       "      <td>3.5</td>\n",
       "    </tr>\n",
       "    <tr>\n",
       "      <th>4</th>\n",
       "      <td>3.5</td>\n",
       "    </tr>\n",
       "    <tr>\n",
       "      <th>...</th>\n",
       "      <td>...</td>\n",
       "    </tr>\n",
       "    <tr>\n",
       "      <th>1062</th>\n",
       "      <td>3.0</td>\n",
       "    </tr>\n",
       "    <tr>\n",
       "      <th>1063</th>\n",
       "      <td>3.2</td>\n",
       "    </tr>\n",
       "    <tr>\n",
       "      <th>1064</th>\n",
       "      <td>3.0</td>\n",
       "    </tr>\n",
       "    <tr>\n",
       "      <th>1065</th>\n",
       "      <td>3.2</td>\n",
       "    </tr>\n",
       "    <tr>\n",
       "      <th>1066</th>\n",
       "      <td>3.2</td>\n",
       "    </tr>\n",
       "  </tbody>\n",
       "</table>\n",
       "<p>1067 rows × 1 columns</p>\n",
       "</div>"
      ],
      "text/plain": [
       "      ENGINESIZE\n",
       "0            2.0\n",
       "1            2.4\n",
       "2            1.5\n",
       "3            3.5\n",
       "4            3.5\n",
       "...          ...\n",
       "1062         3.0\n",
       "1063         3.2\n",
       "1064         3.0\n",
       "1065         3.2\n",
       "1066         3.2\n",
       "\n",
       "[1067 rows x 1 columns]"
      ]
     },
     "execution_count": 66,
     "metadata": {},
     "output_type": "execute_result"
    }
   ],
   "source": [
    "df = pd.read_csv(\"FuelConsumption.csv\")\n",
    "features = df.iloc[ : ,4 :5]\n",
    "target = df.iloc[ : , -1  ]\n",
    "target = pd.DataFrame(target)\n",
    "features"
   ]
  },
  {
   "cell_type": "markdown",
   "id": "3bf97e6b",
   "metadata": {},
   "source": [
    "## data cleaning"
   ]
  },
  {
   "cell_type": "code",
   "execution_count": 67,
   "id": "e33393a6",
   "metadata": {},
   "outputs": [
    {
     "name": "stdout",
     "output_type": "stream",
     "text": [
      "ENGINESIZE    0\n",
      "dtype: int64\n",
      "the min of engine size is  :  ENGINESIZE    1.0\n",
      "dtype: float64\n",
      "the max of engine size is :  ENGINESIZE    8.4\n",
      "dtype: float64\n",
      "the min of target is :  CO2EMISSIONS    108\n",
      "dtype: int64\n",
      "the max of target is :  CO2EMISSIONS    488\n",
      "dtype: int64\n"
     ]
    }
   ],
   "source": [
    "print(features.isnull().sum())\n",
    "print (\"the min of engine size is  : \" , features.min())\n",
    "print(\"the max of engine size is : \" , features.max())\n",
    "print(\"the min of target is : \" , target.min() )\n",
    "print(\"the max of target is : \" , target.max())"
   ]
  },
  {
   "cell_type": "markdown",
   "id": "c1e02a90",
   "metadata": {},
   "source": [
    "## Train - Test split"
   ]
  },
  {
   "cell_type": "code",
   "execution_count": 68,
   "id": "deb36405",
   "metadata": {},
   "outputs": [],
   "source": [
    "from sklearn.model_selection import train_test_split\n",
    "x_train , x_test , y_train , y_test = train_test_split(features , target, shuffle=True , train_size=0.8, random_state=4)"
   ]
  },
  {
   "cell_type": "markdown",
   "id": "aaf9477f",
   "metadata": {},
   "source": [
    "## standardization"
   ]
  },
  {
   "cell_type": "code",
   "execution_count": 69,
   "id": "b43bb703",
   "metadata": {},
   "outputs": [],
   "source": [
    "from sklearn.preprocessing import StandardScaler\n",
    "ssc = StandardScaler()\n",
    "x_train = ssc.fit_transform(x_train)\n",
    "x_test = ssc.fit_transform(x_test)\n",
    "y_train = ssc.fit_transform(y_train)\n",
    "y_test = ssc.fit_transform(y_test)"
   ]
  },
  {
   "cell_type": "markdown",
   "id": "dea635d5",
   "metadata": {},
   "source": [
    "## linear regression"
   ]
  },
  {
   "cell_type": "code",
   "execution_count": 70,
   "id": "17d6f8d2",
   "metadata": {},
   "outputs": [
    {
     "name": "stdout",
     "output_type": "stream",
     "text": [
      "the leinear r2 is  :  0.8151683059651582\n"
     ]
    }
   ],
   "source": [
    "from sklearn.linear_model import LinearRegression\n",
    "from sklearn.metrics import r2_score\n",
    "linear_regressor = LinearRegression()\n",
    "linear_regressor.fit(x_test ,y_test)\n",
    "linear_y_pred =linear_regressor.predict(x_test)\n",
    "print(\"the leinear r2 is  : \" ,r2_score(y_test , linear_y_pred))\n"
   ]
  },
  {
   "cell_type": "markdown",
   "id": "1c40894a",
   "metadata": {},
   "source": [
    "## plotting"
   ]
  },
  {
   "cell_type": "code",
   "execution_count": 71,
   "id": "d7bc5573",
   "metadata": {},
   "outputs": [
    {
     "data": {
      "text/plain": [
       "Text(0, 0.5, 'Emission')"
      ]
     },
     "execution_count": 71,
     "metadata": {},
     "output_type": "execute_result"
    },
    {
     "data": {
      "image/png": "[encoded data removed]",
      "text/plain": [
       "<Figure size 432x288 with 1 Axes>"
      ]
     },
     "metadata": {
      "needs_background": "light"
     },
     "output_type": "display_data"
    }
   ],
   "source": [
    "plt.scatter(x_train , y_train , c = 'r' )\n",
    "plt.scatter(x_test , y_test , c=\"g\" , alpha=0.35 ) # alfha is opacity or transparency\n",
    "plt.plot(x_train , linear_regressor.predict(x_train), c = 'b')\n",
    "plt.title(\"plotting\")\n",
    "plt.xlabel(\"Engine size\")\n",
    "plt.ylabel(\"Emission\")"
   ]
  },
  {
   "cell_type": "markdown",
   "id": "e7f207dd",
   "metadata": {},
   "source": [
    "## polynomial regression"
   ]
  },
  {
   "cell_type": "code",
   "execution_count": 72,
   "id": "9548bbdb",
   "metadata": {},
   "outputs": [],
   "source": [
    "from sklearn.preprocessing import PolynomialFeatures\n",
    "poly = PolynomialFeatures(degree=2)\n",
    "poly_x_train = poly.fit_transform(x_train)\n",
    "poly_x_test = poly.fit_transform(x_test)\n",
    "poly_regressor = LinearRegression()\n",
    "poly_regressor.fit(poly_x_train , y_train)\n",
    "poly_y_pred = poly_regressor.predict(poly_x_test)"
   ]
  },
  {
   "cell_type": "markdown",
   "id": "9c97d40b",
   "metadata": {},
   "source": [
    "## plotting"
   ]
  },
  {
   "cell_type": "code",
   "execution_count": 75,
   "id": "4931a684",
   "metadata": {},
   "outputs": [
    {
     "data": {
      "text/plain": [
       "Text(0, 0.5, 'Emission')"
      ]
     },
     "execution_count": 75,
     "metadata": {},
     "output_type": "execute_result"
    },
    {
     "data": {
      "image/png": "[encoded data removed]",
      "text/plain": [
       "<Figure size 432x288 with 1 Axes>"
      ]
     },
     "metadata": {
      "needs_background": "light"
     },
     "output_type": "display_data"
    }
   ],
   "source": [
    "\n",
    "plt.scatter(x_train , y_train , c = 'r' )\n",
    "plt.scatter(x_test , y_test , c=\"g\" , alpha=0.35 ) # alfha is opacity or transparency\n",
    "plt.plot(x_train , poly_regressor.predict(poly_x_train))\n",
    "plt.title(\"plotting\")\n",
    "plt.xlabel(\"Engine size\")\n",
    "plt.ylabel(\"Emission\")"
   ]
  },
  {
   "cell_type": "markdown",
   "id": "ef692201",
   "metadata": {},
   "source": [
    "Author : Saleh Mhosseini"
   ]
  }
 ],
 "metadata": {
  "kernelspec": {
   "display_name": "Python 3 (ipykernel)",
   "language": "python",
   "name": "python3"
  },
  "language_info": {
   "codemirror_mode": {
    "name": "ipython",
    "version": 3
   },
   "file_extension": ".py",
   "mimetype": "text/x-python",
   "name": "python",
   "nbconvert_exporter": "python",
   "pygments_lexer": "ipython3",
   "version": "3.10.5"
  }
 },
 "nbformat": 4,
 "nbformat_minor": 5
}
