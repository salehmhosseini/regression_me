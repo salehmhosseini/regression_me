{
 "cells": [
  {
   "cell_type": "markdown",
   "id": "b57ad75d",
   "metadata": {},
   "source": [
    "<img src=\"regression types.png\">\n"
   ]
  },
  {
   "cell_type": "markdown",
   "id": "97b47e81",
   "metadata": {},
   "source": [
    "# Simple linear regression"
   ]
  },
  {
   "cell_type": "markdown",
   "id": "a26df454",
   "metadata": {},
   "source": [
    "y = wx + b + e  \n",
    "y : depentent variable , continues value , response , target   \n",
    "x : independent variable , feature   \n",
    "w , b : parameters  \n",
    "w:  slope , coefficient , weight   \n",
    "b : y _ intercept , bias   \n",
    "e : epsilon  , error  \n",
    "h(x) : hypothetis function : function for x  , y^ , y-hat  \n",
    "J(w , b ) : cost function : fonction of w and b  \n",
    "goal :finde the minimize of J(w , b)"
   ]
  },
  {
   "cell_type": "markdown",
   "id": "f4997512",
   "metadata": {},
   "source": [
    "<img src=\"errors.png\">\n"
   ]
  },
  {
   "cell_type": "markdown",
   "id": "a023f2f9",
   "metadata": {},
   "source": [
    "<img src=\"complete.svg\">\n",
    "<img src=\"a.svg\">\n",
    "<img src=\"ssxy.svg\">\n",
    "<img src=\"ssxx.svg\">\n",
    "<img src=\"b.svg\">  \n",
    "\n",
    "we have J(w , b ) -- > we wants find the w , b that minimize the J(w , b)      \n",
    "for this goal we should use Gradian descent algorithn   \n",
    "\n",
    "[Here's explain how to get slope and intercept](./getx.pdf)"
   ]
  },
  {
   "cell_type": "markdown",
   "id": "c8368216",
   "metadata": {},
   "source": [
    "## Gradian decsent ( images by Andrew NG slides )"
   ]
  },
  {
   "cell_type": "markdown",
   "id": "4d2c58f3",
   "metadata": {},
   "source": [
    "<img src=\"gradian.png\">  \n",
    "<img src=\"learning-rate.png\">  \n",
    "<img src=\"proof-derivative.png\">  \n",
    "<img src=\"steps.png\">  \n",
    "<img src=\"batch.png\">  "
   ]
  },
  {
   "cell_type": "markdown",
   "id": "6708056c",
   "metadata": {},
   "source": [
    "## importing libaries"
   ]
  },
  {
   "cell_type": "code",
   "execution_count": 225,
   "id": "b898b713",
   "metadata": {},
   "outputs": [],
   "source": [
    "import numpy as np\n",
    "import pandas as pd\n",
    "import matplotlib.pyplot as plt"
   ]
  },
  {
   "cell_type": "markdown",
   "id": "878e1802",
   "metadata": {},
   "source": [
    "## reding dataset"
   ]
  },
  {
   "cell_type": "code",
   "execution_count": 226,
   "id": "9ffe0120",
   "metadata": {},
   "outputs": [],
   "source": [
    "df = pd.read_csv(\"Salary_Data.csv\")\n",
    "features = df.iloc[ : ,  :-1 ].values\n",
    "target = df.iloc[: , -1].values"
   ]
  },
  {
   "cell_type": "markdown",
   "id": "382d2c68",
   "metadata": {},
   "source": [
    "## Spliting into train and test"
   ]
  },
  {
   "cell_type": "code",
   "execution_count": 227,
   "id": "e1bd5505",
   "metadata": {},
   "outputs": [],
   "source": [
    "from sklearn.model_selection import train_test_split\n",
    "x_train , x_test , y_train , y_test = train_test_split(features , target , train_size = 0.8  , random_state=4 , shuffle=True )"
   ]
  },
  {
   "cell_type": "markdown",
   "id": "bbfe31e0",
   "metadata": {},
   "source": [
    "## Training the Simple Linear Regression model on the Training set"
   ]
  },
  {
   "cell_type": "code",
   "execution_count": 228,
   "id": "66053d65",
   "metadata": {},
   "outputs": [
    {
     "name": "stdout",
     "output_type": "stream",
     "text": [
      "coefficient is :  9469.606901204028\n",
      "intercept is : 26149.54627036531\n"
     ]
    }
   ],
   "source": [
    "from sklearn.linear_model import LinearRegression\n",
    "regressor = LinearRegression()\n",
    "regressor.fit(x_train , y_train)\n",
    "print(\"coefficient is : \" , regressor.coef_[0])\n",
    "print(\"intercept is :\" , regressor.intercept_)"
   ]
  },
  {
   "cell_type": "code",
   "execution_count": 229,
   "id": "4802b4a1",
   "metadata": {},
   "outputs": [],
   "source": [
    "y_pred = regressor.predict(x_test)"
   ]
  },
  {
   "cell_type": "markdown",
   "id": "31f112cf",
   "metadata": {},
   "source": [
    "## visualize"
   ]
  },
  {
   "cell_type": "markdown",
   "id": "e40f7d4b",
   "metadata": {},
   "source": [
    "### training set resault"
   ]
  },
  {
   "cell_type": "code",
   "execution_count": 230,
   "id": "8c82b95a",
   "metadata": {},
   "outputs": [
    {
     "data": {
      "image/png": "[encoded data removed]",
      "text/plain": [
       "<Figure size 432x288 with 1 Axes>"
      ]
     },
     "metadata": {
      "needs_background": "light"
     },
     "output_type": "display_data"
    }
   ],
   "source": [
    "plt.scatter(x_train , y_train , color = 'red')\n",
    "plt.plot(x_train , regressor.predict(x_train) , color = 'blue')\n",
    "plt.title('Salary vs Experience (Training set)')\n",
    "plt.xlabel('Years of Experience')\n",
    "plt.ylabel('Salary')\n",
    "plt.show()"
   ]
  },
  {
   "cell_type": "markdown",
   "id": "ae389765",
   "metadata": {},
   "source": [
    "### testing set resault"
   ]
  },
  {
   "cell_type": "code",
   "execution_count": 231,
   "id": "fba32545",
   "metadata": {},
   "outputs": [
    {
     "data": {
      "image/png": "[encoded data removed]",
      "text/plain": [
       "<Figure size 432x288 with 1 Axes>"
      ]
     },
     "metadata": {
      "needs_background": "light"
     },
     "output_type": "display_data"
    }
   ],
   "source": [
    "plt.scatter(x_test , y_test , color = 'red')\n",
    "plt.plot(x_train , regressor.predict(x_train) , color = 'blue')\n",
    "plt.title('Salary vs Experience (Test set)')\n",
    "plt.xlabel('Years of Experience')\n",
    "plt.ylabel('Salary')\n",
    "plt.show()"
   ]
  },
  {
   "cell_type": "markdown",
   "id": "5f89ac14",
   "metadata": {},
   "source": [
    "## evaluation"
   ]
  },
  {
   "cell_type": "code",
   "execution_count": 232,
   "id": "628b3b9b",
   "metadata": {},
   "outputs": [
    {
     "name": "stdout",
     "output_type": "stream",
     "text": [
      "Mean absolute error: 4336.75\n",
      "Residual sum of squares (MSE): 24942746.41\n",
      "R2-score: 0.95\n"
     ]
    }
   ],
   "source": [
    "from sklearn.metrics import r2_score\n",
    "print(\"Mean absolute error: %.2f\" % np.mean(np.absolute(y_pred - y_test)))\n",
    "print(\"Residual sum of squares (MSE): %.2f\" % np.mean((y_pred - y_test) ** 2))\n",
    "print(\"R2-score: %.2f\" % r2_score(y_test , y_pred) )\n"
   ]
  },
  {
   "cell_type": "markdown",
   "id": "14b4c6ef",
   "metadata": {},
   "source": [
    "# Multiple linear regression"
   ]
  },
  {
   "cell_type": "markdown",
   "id": "f2f946f2",
   "metadata": {},
   "source": [
    "<img src=\"multiple-regression.png\">  \n",
    "<img src=\"numpy-dotdot.png\">  \n",
    "<img src=\"gradian-vector.png\">  \n",
    "<img src=\"multiple-gradian.png\">  \n",
    "<img src=\"visual-feature-scaling.png\">  \n",
    "<img src=\"feature-scaling.png\">  \n",
    "<img src=\"visual-feature-scaling.png\">  \n"
   ]
  },
  {
   "cell_type": "markdown",
   "id": "da4c9d5e",
   "metadata": {},
   "source": [
    "y = w1x1 + w2x2 + w3x3 + ... + wnxn + b + e : w.x ( dot product )  \n",
    "y : depentent variable , continues value , response , target   \n",
    "x : independent variable , feature   \n",
    "w , b : parameters  \n",
    "w:  slope , coefficient , weight   \n",
    "b : y _ intercept , bias   \n",
    "e : epsilon  , error  \n",
    "h(x) : hypothetis function : function for x  , y^ , y-hat  \n",
    "J(w , b ) : cost function : fonction of w and b  \n",
    "goal : finde the minimize of J(w, b)"
   ]
  },
  {
   "cell_type": "markdown",
   "id": "b3789c8e",
   "metadata": {},
   "source": [
    "## dot prodact ( in vectorization)"
   ]
  },
  {
   "cell_type": "markdown",
   "id": "e0c90733",
   "metadata": {},
   "source": [
    "a · b : This means the Dot Product of a and b  \n",
    "a · b = |a| × |b| × cos(θ)  \n",
    "a · b = ax × bx + ay × by  "
   ]
  },
  {
   "cell_type": "markdown",
   "id": "f025ae3b",
   "metadata": {},
   "source": [
    "## importing dataset"
   ]
  },
  {
   "cell_type": "code",
   "execution_count": 233,
   "id": "0013d0f2",
   "metadata": {},
   "outputs": [
    {
     "data": {
      "text/html": [
       "<div>\n",
       "<style scoped>\n",
       "    .dataframe tbody tr th:only-of-type {\n",
       "        vertical-align: middle;\n",
       "    }\n",
       "\n",
       "    .dataframe tbody tr th {\n",
       "        vertical-align: top;\n",
       "    }\n",
       "\n",
       "    .dataframe thead th {\n",
       "        text-align: right;\n",
       "    }\n",
       "</style>\n",
       "<table border=\"1\" class=\"dataframe\">\n",
       "  <thead>\n",
       "    <tr style=\"text-align: right;\">\n",
       "      <th></th>\n",
       "      <th>R&amp;D Spend</th>\n",
       "      <th>Administration</th>\n",
       "      <th>Marketing Spend</th>\n",
       "      <th>State</th>\n",
       "      <th>Profit</th>\n",
       "    </tr>\n",
       "  </thead>\n",
       "  <tbody>\n",
       "    <tr>\n",
       "      <th>0</th>\n",
       "      <td>165349.20</td>\n",
       "      <td>136897.80</td>\n",
       "      <td>471784.10</td>\n",
       "      <td>New York</td>\n",
       "      <td>192261.83</td>\n",
       "    </tr>\n",
       "    <tr>\n",
       "      <th>1</th>\n",
       "      <td>162597.70</td>\n",
       "      <td>151377.59</td>\n",
       "      <td>443898.53</td>\n",
       "      <td>California</td>\n",
       "      <td>191792.06</td>\n",
       "    </tr>\n",
       "    <tr>\n",
       "      <th>2</th>\n",
       "      <td>153441.51</td>\n",
       "      <td>101145.55</td>\n",
       "      <td>407934.54</td>\n",
       "      <td>Florida</td>\n",
       "      <td>191050.39</td>\n",
       "    </tr>\n",
       "    <tr>\n",
       "      <th>3</th>\n",
       "      <td>144372.41</td>\n",
       "      <td>118671.85</td>\n",
       "      <td>383199.62</td>\n",
       "      <td>New York</td>\n",
       "      <td>182901.99</td>\n",
       "    </tr>\n",
       "    <tr>\n",
       "      <th>4</th>\n",
       "      <td>142107.34</td>\n",
       "      <td>91391.77</td>\n",
       "      <td>366168.42</td>\n",
       "      <td>Florida</td>\n",
       "      <td>166187.94</td>\n",
       "    </tr>\n",
       "  </tbody>\n",
       "</table>\n",
       "</div>"
      ],
      "text/plain": [
       "   R&D Spend  Administration  Marketing Spend       State     Profit\n",
       "0  165349.20       136897.80        471784.10    New York  192261.83\n",
       "1  162597.70       151377.59        443898.53  California  191792.06\n",
       "2  153441.51       101145.55        407934.54     Florida  191050.39\n",
       "3  144372.41       118671.85        383199.62    New York  182901.99\n",
       "4  142107.34        91391.77        366168.42     Florida  166187.94"
      ]
     },
     "metadata": {},
     "output_type": "display_data"
    }
   ],
   "source": [
    "multi_df = pd.read_csv(\"50_Startups.csv\")\n",
    "display(multi_df.head())"
   ]
  },
  {
   "cell_type": "code",
   "execution_count": 234,
   "id": "cb386bdd",
   "metadata": {},
   "outputs": [
    {
     "data": {
      "text/html": [
       "<div>\n",
       "<style scoped>\n",
       "    .dataframe tbody tr th:only-of-type {\n",
       "        vertical-align: middle;\n",
       "    }\n",
       "\n",
       "    .dataframe tbody tr th {\n",
       "        vertical-align: top;\n",
       "    }\n",
       "\n",
       "    .dataframe thead th {\n",
       "        text-align: right;\n",
       "    }\n",
       "</style>\n",
       "<table border=\"1\" class=\"dataframe\">\n",
       "  <thead>\n",
       "    <tr style=\"text-align: right;\">\n",
       "      <th></th>\n",
       "      <th>R&amp;D Spend</th>\n",
       "      <th>Administration</th>\n",
       "      <th>Marketing Spend</th>\n",
       "      <th>State</th>\n",
       "    </tr>\n",
       "  </thead>\n",
       "  <tbody>\n",
       "    <tr>\n",
       "      <th>0</th>\n",
       "      <td>165349.20</td>\n",
       "      <td>136897.80</td>\n",
       "      <td>471784.10</td>\n",
       "      <td>New York</td>\n",
       "    </tr>\n",
       "    <tr>\n",
       "      <th>1</th>\n",
       "      <td>162597.70</td>\n",
       "      <td>151377.59</td>\n",
       "      <td>443898.53</td>\n",
       "      <td>California</td>\n",
       "    </tr>\n",
       "    <tr>\n",
       "      <th>2</th>\n",
       "      <td>153441.51</td>\n",
       "      <td>101145.55</td>\n",
       "      <td>407934.54</td>\n",
       "      <td>Florida</td>\n",
       "    </tr>\n",
       "    <tr>\n",
       "      <th>3</th>\n",
       "      <td>144372.41</td>\n",
       "      <td>118671.85</td>\n",
       "      <td>383199.62</td>\n",
       "      <td>New York</td>\n",
       "    </tr>\n",
       "    <tr>\n",
       "      <th>4</th>\n",
       "      <td>142107.34</td>\n",
       "      <td>91391.77</td>\n",
       "      <td>366168.42</td>\n",
       "      <td>Florida</td>\n",
       "    </tr>\n",
       "  </tbody>\n",
       "</table>\n",
       "</div>"
      ],
      "text/plain": [
       "   R&D Spend  Administration  Marketing Spend       State\n",
       "0  165349.20       136897.80        471784.10    New York\n",
       "1  162597.70       151377.59        443898.53  California\n",
       "2  153441.51       101145.55        407934.54     Florida\n",
       "3  144372.41       118671.85        383199.62    New York\n",
       "4  142107.34        91391.77        366168.42     Florida"
      ]
     },
     "metadata": {},
     "output_type": "display_data"
    },
    {
     "name": "stdout",
     "output_type": "stream",
     "text": [
      "############\n"
     ]
    },
    {
     "data": {
      "text/plain": [
       "0    192261.83\n",
       "1    191792.06\n",
       "2    191050.39\n",
       "3    182901.99\n",
       "4    166187.94\n",
       "Name: Profit, dtype: float64"
      ]
     },
     "metadata": {},
     "output_type": "display_data"
    }
   ],
   "source": [
    "multi_features = multi_df.iloc[ : , :-1]\n",
    "multi_target = multi_df.iloc[ :  , -1]\n",
    "display(multi_features.head())\n",
    "print(\"############\")\n",
    "display(multi_target.head())"
   ]
  },
  {
   "cell_type": "markdown",
   "id": "ac476b68",
   "metadata": {},
   "source": [
    "## date cleaning"
   ]
  },
  {
   "cell_type": "code",
   "execution_count": 235,
   "id": "79786f68",
   "metadata": {},
   "outputs": [
    {
     "data": {
      "text/plain": [
       "R&D Spend          0\n",
       "Administration     0\n",
       "Marketing Spend    0\n",
       "State              0\n",
       "Profit             0\n",
       "dtype: int64"
      ]
     },
     "execution_count": 235,
     "metadata": {},
     "output_type": "execute_result"
    }
   ],
   "source": [
    "null_multi_df = multi_df.isnull().sum()\n",
    "null_multi_df\n",
    "# ther is no missing value"
   ]
  },
  {
   "cell_type": "markdown",
   "id": "c41ce33e",
   "metadata": {},
   "source": [
    "## encoding categorical data "
   ]
  },
  {
   "cell_type": "code",
   "execution_count": 236,
   "id": "95383d75",
   "metadata": {},
   "outputs": [
    {
     "name": "stdout",
     "output_type": "stream",
     "text": [
      "[[0.00e+00 0.00e+00 1.00e+00 1.65e+05 1.37e+05 4.72e+05]\n",
      " [1.00e+00 0.00e+00 0.00e+00 1.63e+05 1.51e+05 4.44e+05]\n",
      " [0.00e+00 1.00e+00 0.00e+00 1.53e+05 1.01e+05 4.08e+05]\n",
      " [0.00e+00 0.00e+00 1.00e+00 1.44e+05 1.19e+05 3.83e+05]\n",
      " [0.00e+00 1.00e+00 0.00e+00 1.42e+05 9.14e+04 3.66e+05]\n",
      " [0.00e+00 0.00e+00 1.00e+00 1.32e+05 9.98e+04 3.63e+05]\n",
      " [1.00e+00 0.00e+00 0.00e+00 1.35e+05 1.47e+05 1.28e+05]\n",
      " [0.00e+00 1.00e+00 0.00e+00 1.30e+05 1.46e+05 3.24e+05]\n",
      " [0.00e+00 0.00e+00 1.00e+00 1.21e+05 1.49e+05 3.12e+05]\n",
      " [1.00e+00 0.00e+00 0.00e+00 1.23e+05 1.09e+05 3.05e+05]\n",
      " [0.00e+00 1.00e+00 0.00e+00 1.02e+05 1.11e+05 2.29e+05]\n",
      " [1.00e+00 0.00e+00 0.00e+00 1.01e+05 9.18e+04 2.50e+05]\n",
      " [0.00e+00 1.00e+00 0.00e+00 9.39e+04 1.27e+05 2.50e+05]\n",
      " [1.00e+00 0.00e+00 0.00e+00 9.20e+04 1.35e+05 2.53e+05]\n",
      " [0.00e+00 1.00e+00 0.00e+00 1.20e+05 1.57e+05 2.57e+05]\n",
      " [0.00e+00 0.00e+00 1.00e+00 1.15e+05 1.23e+05 2.62e+05]\n",
      " [1.00e+00 0.00e+00 0.00e+00 7.80e+04 1.22e+05 2.64e+05]\n",
      " [0.00e+00 0.00e+00 1.00e+00 9.47e+04 1.45e+05 2.83e+05]\n",
      " [0.00e+00 1.00e+00 0.00e+00 9.17e+04 1.14e+05 2.95e+05]\n",
      " [0.00e+00 0.00e+00 1.00e+00 8.64e+04 1.54e+05 0.00e+00]\n",
      " [1.00e+00 0.00e+00 0.00e+00 7.63e+04 1.14e+05 2.99e+05]\n",
      " [0.00e+00 0.00e+00 1.00e+00 7.84e+04 1.54e+05 3.00e+05]\n",
      " [0.00e+00 1.00e+00 0.00e+00 7.40e+04 1.23e+05 3.03e+05]\n",
      " [0.00e+00 1.00e+00 0.00e+00 6.75e+04 1.06e+05 3.05e+05]\n",
      " [0.00e+00 0.00e+00 1.00e+00 7.70e+04 9.93e+04 1.41e+05]\n",
      " [1.00e+00 0.00e+00 0.00e+00 6.47e+04 1.40e+05 1.38e+05]\n",
      " [0.00e+00 1.00e+00 0.00e+00 7.53e+04 1.44e+05 1.34e+05]\n",
      " [0.00e+00 0.00e+00 1.00e+00 7.21e+04 1.28e+05 3.53e+05]\n",
      " [0.00e+00 1.00e+00 0.00e+00 6.61e+04 1.83e+05 1.18e+05]\n",
      " [0.00e+00 0.00e+00 1.00e+00 6.56e+04 1.53e+05 1.07e+05]\n",
      " [0.00e+00 1.00e+00 0.00e+00 6.20e+04 1.16e+05 9.11e+04]\n",
      " [0.00e+00 0.00e+00 1.00e+00 6.11e+04 1.53e+05 8.82e+04]\n",
      " [1.00e+00 0.00e+00 0.00e+00 6.34e+04 1.29e+05 4.61e+04]\n",
      " [0.00e+00 1.00e+00 0.00e+00 5.55e+04 1.03e+05 2.15e+05]\n",
      " [1.00e+00 0.00e+00 0.00e+00 4.64e+04 1.58e+05 2.11e+05]\n",
      " [0.00e+00 0.00e+00 1.00e+00 4.60e+04 8.50e+04 2.06e+05]\n",
      " [0.00e+00 1.00e+00 0.00e+00 2.87e+04 1.27e+05 2.01e+05]\n",
      " [1.00e+00 0.00e+00 0.00e+00 4.41e+04 5.13e+04 1.97e+05]\n",
      " [0.00e+00 0.00e+00 1.00e+00 2.02e+04 6.59e+04 1.85e+05]\n",
      " [1.00e+00 0.00e+00 0.00e+00 3.86e+04 8.30e+04 1.75e+05]\n",
      " [1.00e+00 0.00e+00 0.00e+00 2.88e+04 1.19e+05 1.73e+05]\n",
      " [0.00e+00 1.00e+00 0.00e+00 2.79e+04 8.47e+04 1.64e+05]\n",
      " [1.00e+00 0.00e+00 0.00e+00 2.36e+04 9.62e+04 1.48e+05]\n",
      " [0.00e+00 0.00e+00 1.00e+00 1.55e+04 1.27e+05 3.55e+04]\n",
      " [1.00e+00 0.00e+00 0.00e+00 2.22e+04 1.55e+05 2.83e+04]\n",
      " [0.00e+00 0.00e+00 1.00e+00 1.00e+03 1.24e+05 1.90e+03]\n",
      " [0.00e+00 1.00e+00 0.00e+00 1.32e+03 1.16e+05 2.97e+05]\n",
      " [1.00e+00 0.00e+00 0.00e+00 0.00e+00 1.35e+05 0.00e+00]\n",
      " [0.00e+00 0.00e+00 1.00e+00 5.42e+02 5.17e+04 0.00e+00]\n",
      " [1.00e+00 0.00e+00 0.00e+00 0.00e+00 1.17e+05 4.52e+04]]\n"
     ]
    }
   ],
   "source": [
    "from sklearn.compose import ColumnTransformer\n",
    "from sklearn.preprocessing import OneHotEncoder\n",
    "ct = ColumnTransformer(transformers=[('encoder' , OneHotEncoder() , [3])] , remainder='passthrough')  \n",
    "multi_features = np.array(ct.fit_transform(multi_features))\n",
    "print(multi_features)"
   ]
  },
  {
   "cell_type": "markdown",
   "id": "d7e0d539",
   "metadata": {},
   "source": [
    "## split into train and test"
   ]
  },
  {
   "cell_type": "code",
   "execution_count": 237,
   "id": "4f64043b",
   "metadata": {},
   "outputs": [],
   "source": [
    "from sklearn.model_selection import train_test_split\n",
    "x_multi_train , x_multi_test , y_multi_train , y_multi_test = train_test_split(multi_features , multi_target , train_size = 0.2 , random_state = 0 , shuffle=True ) "
   ]
  },
  {
   "cell_type": "markdown",
   "id": "58d44237",
   "metadata": {},
   "source": [
    "## feature scaling ( standardization )"
   ]
  },
  {
   "cell_type": "code",
   "execution_count": 238,
   "id": "15fd3de4",
   "metadata": {},
   "outputs": [],
   "source": [
    "from sklearn.preprocessing import StandardScaler\n",
    "ssc = StandardScaler()\n",
    "x_multi_train[ :  , 3:] = ssc.fit_transform(x_multi_train[ :  , 3 :]) # note : fit and transform .\n",
    "x_multi_test[ :  , 3 :] = ssc.transform(x_multi_test[ :  , 3:]) # note : just transform . not fit and transform ."
   ]
  },
  {
   "cell_type": "markdown",
   "id": "23468b3b",
   "metadata": {},
   "source": [
    "## execute regression"
   ]
  },
  {
   "cell_type": "code",
   "execution_count": 239,
   "id": "9fb90fe4",
   "metadata": {},
   "outputs": [
    {
     "name": "stdout",
     "output_type": "stream",
     "text": [
      "[-7455.38 10959.87 -3504.49 54559.79 -1885.82 -4006.12]\n"
     ]
    }
   ],
   "source": [
    "from sklearn.linear_model import LinearRegression\n",
    "multi_regressor = LinearRegression()\n",
    "multi_regressor.fit(x_multi_train , y_multi_train)\n",
    "print(multi_regressor.coef_)"
   ]
  },
  {
   "cell_type": "code",
   "execution_count": 240,
   "id": "c538a22c",
   "metadata": {},
   "outputs": [],
   "source": [
    "y_multi_predict = multi_regressor.predict(x_multi_test)\n"
   ]
  },
  {
   "cell_type": "markdown",
   "id": "41b0381b",
   "metadata": {},
   "source": [
    "### scaling predict and reallity"
   ]
  },
  {
   "cell_type": "code",
   "execution_count": 241,
   "id": "7a5d69e8",
   "metadata": {},
   "outputs": [
    {
     "name": "stdout",
     "output_type": "stream",
     "text": [
      "R2-score: 0.95\n",
      "########################\n",
      "[[117126.7 ]\n",
      " [136353.43]\n",
      " [154866.1 ]\n",
      " [ 87795.02]\n",
      " [200500.88]\n",
      " [107171.98]\n",
      " [ 67068.17]\n",
      " [101294.13]\n",
      " [125158.02]\n",
      " [191544.17]\n",
      " [111390.2 ]\n",
      " [ 89622.25]\n",
      " [128928.24]\n",
      " [ 79677.29]\n",
      " [143132.95]\n",
      " [176645.18]\n",
      " [167493.75]\n",
      " [ 48314.47]\n",
      " [ 54157.61]\n",
      " [105065.75]\n",
      " [150620.67]\n",
      " [119697.02]\n",
      " [102620.78]\n",
      " [111693.71]\n",
      " [ 64736.96]\n",
      " [109795.05]\n",
      " [ 61080.93]\n",
      " [152868.47]\n",
      " [124196.27]\n",
      " [100585.04]\n",
      " [166632.62]\n",
      " [129111.6 ]\n",
      " [ 67079.74]\n",
      " [ 42915.27]\n",
      " [185618.28]\n",
      " [145181.38]\n",
      " [ 86931.64]\n",
      " [119802.54]\n",
      " [167241.99]\n",
      " [120392.83]]\n",
      "##########################\n",
      "28    103282.38\n",
      "11    144259.40\n",
      "10    146121.95\n",
      "41     77798.83\n",
      "2     191050.39\n",
      "27    105008.31\n",
      "38     81229.06\n",
      "31     97483.56\n",
      "22    110352.25\n",
      "4     166187.94\n",
      "33     96778.92\n",
      "35     96479.51\n",
      "26    105733.54\n",
      "34     96712.80\n",
      "18    124266.90\n",
      "7     155752.60\n",
      "14    132602.65\n",
      "45     64926.08\n",
      "48     35673.41\n",
      "29    101004.64\n",
      "15    129917.04\n",
      "30     99937.59\n",
      "32     97427.84\n",
      "16    126992.93\n",
      "42     71498.49\n",
      "20    118474.03\n",
      "43     69758.98\n",
      "8     152211.77\n",
      "13    134307.35\n",
      "25    107404.34\n",
      "5     156991.12\n",
      "17    125370.37\n",
      "40     78239.91\n",
      "49     14681.40\n",
      "1     191792.06\n",
      "12    141585.52\n",
      "37     89949.14\n",
      "24    108552.04\n",
      "6     156122.51\n",
      "23    108733.99\n",
      "Name: Profit, dtype: float64\n"
     ]
    }
   ],
   "source": [
    "print(\"R2-score: %.2f\" % r2_score(y_test , y_pred) )\n",
    "print(\"########################\")\n",
    "print(y_multi_predict.reshape(len(y_multi_predict) , 1))\n",
    "print(\"##########################\")\n",
    "print(y_multi_test)\n"
   ]
  }
 ],
 "metadata": {
  "kernelspec": {
   "display_name": "Python 3 (ipykernel)",
   "language": "python",
   "name": "python3"
  },
  "language_info": {
   "codemirror_mode": {
    "name": "ipython",
    "version": 3
   },
   "file_extension": ".py",
   "mimetype": "text/x-python",
   "name": "python",
   "nbconvert_exporter": "python",
   "pygments_lexer": "ipython3",
   "version": "3.10.5"
  }
 },
 "nbformat": 4,
 "nbformat_minor": 5
}
